{
 "cells": [
  {
   "cell_type": "markdown",
   "metadata": {},
   "source": [
    "# Sentiment Analysis Demo Notebook\n",
    "\n",
    "This notebook demonstrates how to:\n",
    "1. Scrape or load stock news data.\n",
    "2. Apply VADER sentiment analysis on headlines.\n",
    "3. Generate a treemap visualization for positive or negative sentiment.\n",
    "\n",
    "---"
   ]
  },
  {
   "cell_type": "code",
   "execution_count": null,
   "metadata": {},
   "outputs": [],
   "source": [
    "# In[1]: Imports and Setup\n",
    "\n",
    "import pandas as pd\n",
    "import numpy as np\n",
    "import plotly.express as px\n",
    "import requests\n",
    "import nltk\n",
    "\n",
    "from nltk.sentiment.vader import SentimentIntensityAnalyzer\n",
    "nltk.downloader.download('vader_lexicon')\n",
    "\n",
    "# If you need local imports from your codebase, e.g.:\n",
    "# from backend.marketviews_sentiment_panel_finalized import (\n",
    "#     get_data_to_draw, draw_sentiment_panel, ...\n",
    "# )\n",
    "\n",
    "print(\"Imports done. Environment ready.\")\n"
   ]
  },
  {
   "cell_type": "code",
   "execution_count": null,
   "metadata": {},
   "outputs": [],
   "source": [
    "# In[2]: (Optional) Data Scraping or Mock Data\n",
    "\n",
    "# Example: using mock data or a smaller subset to demonstrate\n",
    "# Typically, you'd have a function to scrape Finviz or Wikipedia.\n",
    "# For demonstration, let's create a small DataFrame of \"headlines.\"\n",
    "\n",
    "headlines_data = {\n",
    "    'ticker': ['AAPL', 'AAPL', 'GOOG', 'AMZN'],\n",
    "    'date': ['2023-12-01', '2023-12-01', '2023-12-02', '2023-12-02'],\n",
    "    'time': ['09:00', '10:00', '11:00', '12:00'],\n",
    "    'headline': [\n",
    "        \"Apple announces new product line with positive reception\",\n",
    "        \"Apple's earnings exceed expectations\",\n",
    "        \"Google faces minor lawsuit, negative sentiment around search monopoly\",\n",
    "        \"Amazon to open new distribution centers, positive expansion news\"\n",
    "    ]\n",
    "}\n",
    "\n",
    "df_headlines = pd.DataFrame(headlines_data)\n",
    "df_headlines['date'] = pd.to_datetime(df_headlines['date'])\n",
    "df_headlines\n"
   ]
  },
  {
   "cell_type": "code",
   "execution_count": null,
   "metadata": {},
   "outputs": [],
   "source": [
    "# In[3]: Sentiment Analysis with VADER\n",
    "\n",
    "vader = SentimentIntensityAnalyzer()\n",
    "\n",
    "# Apply VADER to each headline\n",
    "scores = df_headlines['headline'].apply(vader.polarity_scores).tolist()\n",
    "scores_df = pd.DataFrame(scores)\n",
    "\n",
    "# Merge the scores back to the original DataFrame\n",
    "df_headlines = df_headlines.join(scores_df)\n",
    "\n",
    "print(\"DataFrame with VADER scores:\")\n",
    "df_headlines\n"
   ]
  },
  {
   "cell_type": "code",
   "execution_count": null,
   "metadata": {},
   "outputs": [],
   "source": [
    "# In[4]: Aggregate Sentiment Scores (Compound)\n",
    "\n",
    "# We'll group by 'ticker' and compute the average of each sentiment score\n",
    "mean_scores = df_headlines.groupby('ticker')[['neg', 'neu', 'pos', 'compound']].mean().reset_index()\n",
    "mean_scores.rename(columns={'compound': 'Sentiment Score'}, inplace=True)\n",
    "\n",
    "print(\"Mean scores per ticker:\")\n",
    "mean_scores\n"
   ]
  },
  {
   "cell_type": "code",
   "execution_count": null,
   "metadata": {},
   "outputs": [],
   "source": [
    "# In[5]: Treemap Visualization (Plotly)\n",
    "\n",
    "# Let's pretend these are our \"top 5\" or \"low 5\" for demonstration\n",
    "# In a real scenario, you might filter or combine with Wikipedia sector data.\n",
    "# For a quick demo, we'll just add a \"Sector\" column manually:\n",
    "sector_map = {\n",
    "    'AAPL': 'Technology',\n",
    "    'GOOG': 'Technology',\n",
    "    'AMZN': 'Consumer Discretionary'\n",
    "}\n",
    "mean_scores['Sector'] = mean_scores['ticker'].map(sector_map).fillna('Misc')\n",
    "\n",
    "fig = px.treemap(\n",
    "    mean_scores,\n",
    "    path=[px.Constant(\"Sectors\"), 'Sector', 'ticker'],\n",
    "    values='Sentiment Score',\n",
    "    color='Sentiment Score',\n",
    "    hover_data=['neg', 'neu', 'pos', 'Sentiment Score'],\n",
    "    color_continuous_scale=['#FF0000', '#000000', '#00FF00'],\n",
    "    color_continuous_midpoint=0\n",
    ")\n",
    "\n",
    "# Customize text or hover:\n",
    "fig.data[0].customdata = mean_scores[['neg', 'neu', 'pos', 'Sentiment Score']].round(3).to_numpy()\n",
    "fig.update_traces(\n",
    "    textinfo=\"text\",\n",
    "    texttemplate=\"%{label}<br>Score: %{customdata[3]}\",\n",
    "    hovertemplate=(\n",
    "        \"Ticker: %{label}<br>\"\n",
    "        \"Neg: %{customdata[0]}<br>\"\n",
    "        \"Neu: %{customdata[1]}<br>\"\n",
    "        \"Pos: %{customdata[2]}<br>\"\n",
    "        \"Score: %{customdata[3]}<extra></extra>\"\n",
    "    )\n",
    ")\n",
    "fig.update_layout(margin=dict(t=50, l=25, r=25, b=25))\n",
    "\n",
    "fig.show()\n"
   ]
  },
  {
   "cell_type": "markdown",
   "metadata": {},
   "source": []
  },
  {
   "cell_type": "markdown",
   "metadata": {},
   "source": []
  }
 ],
 "metadata": {
  "kernelspec": {
   "display_name": ".venv",
   "language": "python",
   "name": "python3"
  },
  "language_info": {
   "name": "python",
   "version": "3.13.2"
  }
 },
 "nbformat": 4,
 "nbformat_minor": 2
}
