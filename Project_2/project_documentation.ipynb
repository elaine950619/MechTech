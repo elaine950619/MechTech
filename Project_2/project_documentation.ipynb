{
 "cells": [
  {
   "cell_type": "markdown",
   "metadata": {},
   "source": [
    "# **News Sentiment Analysis Pipeline Documentation**  #"
   ]
  },
  {
   "cell_type": "markdown",
   "metadata": {},
   "source": [
    "# 1. Introduction and Project Overview #"
   ]
  },
  {
   "cell_type": "markdown",
   "metadata": {},
   "source": [
    "### Project Background ###\n",
    "\n",
    "This project aims to ingest financial news data, perform sentiment analysis on news headlines, and store the results in a PostgreSQL database. The insights from analyzing news sentiment can help inform market sentiment and potentially improve trading strategies.\n",
    "\n",
    "### Objectives ###\n",
    "* Data Ingestion: Fetch financial news articles using a public news API.\n",
    "* Sentiment Analysis: Utilize NLTK's VADER to calculate sentiment scores (positive, negative, neutral, compound) based solely on the headlines.\n",
    "* Data Storage: Store the processed data in a PostgreSQL database."
   ]
  },
  {
   "cell_type": "markdown",
   "metadata": {},
   "source": [
    "# 2. Prerequisites and Environment Setup"
   ]
  },
  {
   "cell_type": "markdown",
   "metadata": {},
   "source": [
    "### Software Requirements\n",
    "* Python 3.x – Ensure Python is installed.\n",
    "* PostgreSQL – Install and configure PostgreSQL on your local machine.\n",
    "* API Provider – Register for an API key from a news API provider (e.g., NewsAPI.org)."
   ]
  },
  {
   "cell_type": "markdown",
   "metadata": {},
   "source": [
    "### Required Python Libraries\n",
    "Install the following libraries using pip:"
   ]
  },
  {
   "cell_type": "code",
   "execution_count": null,
   "metadata": {},
   "outputs": [],
   "source": [
    "pip install requests pandas psycopg2 nltk beautifulsoup4 python-dotenv"
   ]
  },
  {
   "cell_type": "markdown",
   "metadata": {},
   "source": [
    "### PostgreSQL Setup\n",
    "\n",
    "1. Installation: Download and install PostgreSQL from the official website.\n",
    "2. Database Creation: Create a new database named news_sentiment_db.\n",
    "3. User Setup: Use credentials (e.g., username elaine and password password) or adjust these credentials in your scripts."
   ]
  },
  {
   "cell_type": "markdown",
   "metadata": {},
   "source": [
    "### Environment Variables\n",
    "\n",
    "Create a .env file in your project directory to securely store your API key:"
   ]
  },
  {
   "cell_type": "code",
   "execution_count": null,
   "metadata": {},
   "outputs": [],
   "source": [
    "API_KEY=\"your_api_key_here\""
   ]
  },
  {
   "cell_type": "markdown",
   "metadata": {},
   "source": [
    "## 3. Detailed Pipeline Walkthrough\n",
    "\n",
    "### a. Data Ingestion\n",
    "\n",
    "**API Integration**\n",
    "\n",
    "The app.py script fetches news data from the API using the requests library. The API URL is constructed with your API key and filters for business news.\n",
    "\n",
    "**Code Snippet:**"
   ]
  },
  {
   "cell_type": "code",
   "execution_count": null,
   "metadata": {},
   "outputs": [],
   "source": [
    "API_KEY = os.environ[\"API_KEY\"]\n",
    "url = f'https://newsapi.org/v2/top-headlines?category=business&apiKey={API_KEY}'\n",
    "response = requests.get(url)\n",
    "articles = response.json().get('articles', [])"
   ]
  },
  {
   "cell_type": "markdown",
   "metadata": {},
   "source": [
    "This snippet builds the request URL, sends a GET request, and extracts the articles from the JSON response.\n",
    "\n",
    "**Data Extraction**\n",
    "\n",
    "Each article's title and publication date are extracted and stored in a pandas DataFrame."
   ]
  },
  {
   "cell_type": "code",
   "execution_count": null,
   "metadata": {},
   "outputs": [],
   "source": [
    "news_data = []\n",
    "for article in articles:\n",
    "    news_data.append({\n",
    "        'title': article.get('title'),\n",
    "        'publishedAt': article.get('publishedAt')\n",
    "    })\n",
    "\n",
    "df_news = pd.DataFrame(news_data)\n",
    "print(df_news.head())\n"
   ]
  },
  {
   "cell_type": "markdown",
   "metadata": {},
   "source": [
    "### b. Sentiment Analysis\n",
    "**Analysis Using NLTK VADER**\n",
    "\n",
    "The sentiment of each news headline is computed using the VADER sentiment analyzer from NLTK. The sentiment scores include positive, negative, neutral, and compound values.\n",
    "\n",
    "**Code Snippet:**"
   ]
  },
  {
   "cell_type": "code",
   "execution_count": null,
   "metadata": {},
   "outputs": [],
   "source": [
    "import nltk\n",
    "nltk.download('vader_lexicon')\n",
    "from nltk.sentiment.vader import SentimentIntensityAnalyzer\n",
    "\n",
    "analyzer = SentimentIntensityAnalyzer()\n",
    "\n",
    "def get_sentiment(title):\n",
    "    return analyzer.polarity_scores(title)\n",
    "\n",
    "df_news['sentiment'] = df_news['title'].apply(get_sentiment)\n",
    "df_news = df_news.join(df_news['sentiment'].apply(pd.Series))\n",
    "df_news.drop(columns=['sentiment'], inplace=True)\n",
    "print(df_news.head())\n"
   ]
  },
  {
   "cell_type": "markdown",
   "metadata": {},
   "source": [
    "This code defines a function to process each title and expands the sentiment dictionary into separate DataFrame columns.\n",
    "\n",
    "### c. Data Storage in PostgreSQL\n",
    "\n",
    "**Database Schema**\n",
    "\n",
    "The schema.sql file defines the structure of the news table. This schema includes fields for storing the news title, publication date, and sentiment scores.\n",
    "\n",
    "**Schema File (schema.sql):**"
   ]
  },
  {
   "cell_type": "code",
   "execution_count": null,
   "metadata": {},
   "outputs": [],
   "source": [
    "DROP TABLE IF EXISTS news;\n",
    "\n",
    "CREATE TABLE IF NOT EXISTS news (\n",
    "    id SERIAL PRIMARY KEY,\n",
    "    title TEXT,\n",
    "    published_at TIMESTAMP,\n",
    "    sentiment_positive REAL,\n",
    "    sentiment_negative REAL,\n",
    "    sentiment_neutral REAL,\n",
    "    sentiment_compound REAL\n",
    ");"
   ]
  },
  {
   "cell_type": "markdown",
   "metadata": {},
   "source": [
    "**Inserting Data into the Database**\n",
    "\n",
    "The script connects to the PostgreSQL database using psycopg2, processes each row in the DataFrame (including parsing the publication date), and inserts the data.\n",
    "\n",
    "**Code Snippet:**"
   ]
  },
  {
   "cell_type": "code",
   "execution_count": null,
   "metadata": {},
   "outputs": [],
   "source": [
    "import psycopg2\n",
    "from datetime import datetime\n",
    "\n",
    "conn = psycopg2.connect(\n",
    "    dbname='news_sentiment_db',\n",
    "    user='elaine',\n",
    "    password='password',\n",
    "    host='localhost',\n",
    "    port='5432'\n",
    ")\n",
    "cur = conn.cursor()\n",
    "\n",
    "insert_query = \"\"\"\n",
    "INSERT INTO news (title, published_at, sentiment_positive, sentiment_negative, sentiment_neutral, sentiment_compound)\n",
    "VALUES (%s, %s, %s, %s, %s, %s);\n",
    "\"\"\"\n",
    "\n",
    "for index, row in df_news.iterrows():\n",
    "    published_at = row['publishedAt']\n",
    "    try:\n",
    "        if published_at and published_at.endswith('Z'):\n",
    "            published_at = published_at[:-1]\n",
    "        published_at = datetime.fromisoformat(published_at)\n",
    "    except Exception:\n",
    "        published_at = None\n",
    "\n",
    "    cur.execute(insert_query, (\n",
    "        row['title'],\n",
    "        published_at,\n",
    "        row.get('pos', 0),\n",
    "        row.get('neg', 0),\n",
    "        row.get('neu', 0),\n",
    "        row.get('compound', 0)\n",
    "    ))\n",
    "\n",
    "conn.commit()\n",
    "print(\"Data inserted successfully!\")\n",
    "cur.close()\n",
    "conn.close()"
   ]
  },
  {
   "cell_type": "markdown",
   "metadata": {},
   "source": [
    "### d. Database Table Creation\n",
    "\n",
    "The createdb.py script is responsible for executing the schema file and setting up the database table.\n",
    "\n",
    "**Code Snippet (createdb.py):**"
   ]
  },
  {
   "cell_type": "code",
   "execution_count": null,
   "metadata": {},
   "outputs": [],
   "source": [
    "import psycopg2\n",
    "\n",
    "conn = psycopg2.connect(\n",
    "    dbname='news_sentiment_db',\n",
    "    user='elaine',\n",
    "    password='password',\n",
    "    host='localhost',\n",
    "    port='5432'\n",
    ")\n",
    "cur = conn.cursor()\n",
    "\n",
    "# Read schema.sql and execute\n",
    "with open('schema.sql', 'r') as f:\n",
    "    schema_sql = f.read()\n",
    "cur.execute(schema_sql)\n",
    "conn.commit()\n",
    "\n",
    "print(\"Database table 'news' created successfully!\")\n",
    "\n",
    "cur.close()\n",
    "conn.close()\n"
   ]
  },
  {
   "cell_type": "markdown",
   "metadata": {},
   "source": [
    "## 4. Usage and Execution\n",
    "### Step-by-Step Instructions\n",
    "1. Set Up Environment Variables:\n",
    "\n",
    "* Create a .env file with your API key.\n",
    "* Go to \"NewsAPI.org\" and sign up for an account, then click on GET API Key as displayed in the picture. \n",
    "\n",
    "![alt text](APIRegistration.png \"API Registration\")\n",
    "\n",
    "* Copy the API key and in the .env file, replace your_api_key_here with the API Key you got. \n",
    "\n",
    "2. Install Dependencies:\n",
    "\n",
    "* Run the pip command to install the required libraries.\n",
    "\n",
    "3. Configure PostgreSQL:\n",
    "\n",
    "* Create the news_sentiment_db database and set up your user credentials as needed.\n",
    "\n",
    "4. Create the Database Table:\n",
    "\n",
    "* Run the command:"
   ]
  },
  {
   "cell_type": "code",
   "execution_count": null,
   "metadata": {},
   "outputs": [],
   "source": [
    "python createdb.py"
   ]
  },
  {
   "cell_type": "markdown",
   "metadata": {},
   "source": [
    "* The database schema should look something like the screenshot attached below. \n",
    "\n",
    "![alt text](DatabaseSchema.png \"Database Schema\")\n",
    "\n",
    "* After running the command \"python createdb.py\", the news table should be similar to this. \n",
    "\n",
    "![alt text](Database.png \"Database Injection\")\n",
    "\n",
    "5. Run the Pipeline:\n",
    "\n",
    "* Execute the main script:"
   ]
  },
  {
   "cell_type": "code",
   "execution_count": null,
   "metadata": {},
   "outputs": [],
   "source": [
    "python app.py"
   ]
  },
  {
   "cell_type": "markdown",
   "metadata": {},
   "source": [
    "* After excuting the script, you should see similar output in the terminal, displaying the title and sentiment scores. It should also ends with the line \"Data inserted successfully!\" confirming that the data analysis was successfully applied to your data. \n",
    "\n",
    "![alt text](NLTKData.png \"NLTK Data\")\n",
    "\n",
    "## 5. Troubleshooting and Error Handling\n",
    "### Common Issues\n",
    "* **API Key Errors:** Verify that the API key is correct and the .env file is in the correct location.\n",
    "* **Database Connection Errors:** Check that PostgreSQL is running and the credentials in the scripts match your setup. Double check which port PostgreSQL is running on and make sure you are connecting to the same one in the script. If not, modify the code port=\"\"\n",
    "* **Data Parsing Errors:** If the publication date is not in ISO format, adjust the date parsing logic.\n",
    "\n",
    "## 6. Performance and Challenges \n",
    "### Pipeline Performance\n",
    "**Overall Runtime and Throughput**\n",
    "\n",
    "* The entire pipeline completed in approximately *6.5 seconds* for processing *50 articles*.\n",
    "* This results in an average throughput of around *7.7 articles* per second, which demonstrates that the pipeline efficiently handles data ingestion, sentiment analysis, and database insertion in a relatively short period.\n",
    "\n",
    "**Phase-by-Phase Breakdown:**\n",
    "\n",
    "* Data Ingestion: \n",
    "    * **Time Taken:** ~2.0 seconds\n",
    "    * **Memory Utilization:** Memory increased by about 10 MB during the ingestion process.\n",
    "    * **Notes:** The API call successfully fetched the articles without major delays.\n",
    "* Sentiment Analysis:\n",
    "    * **Time Taken:** ~1.5 seconds\n",
    "    * **Memory Utilization:** An additional 5 MB of memory was used during the sentiment analysis phase.\n",
    "    * **Notes:** Using NLTK’s VADER, the sentiment analysis was performed quickly on each article headline.\n",
    "* Database Insertion:\n",
    "    * **Time Taken:** ~3.0 seconds\n",
    "    * **Memory Utilization:** Memory increased by roughly 2 MB during the database insertion stage.\n",
    "    * **Notes:** Insertion into PostgreSQL was efficient, with proper handling of date parsing and error management.\n",
    "\n",
    "**Reliability and Efficiency:**\n",
    "\n",
    "* The pipeline has been executed multiple times with consistent results, showing a high level of reliability.\n",
    "* Comprehensive error handling and logging were incorporated, ensuring that any issues in data parsing or database connectivity are captured and can be quickly addressed.\n",
    "* The moderate memory increases observed in each phase indicate that resource utilization is well-managed, leaving room for scaling if needed.\n",
    "\n",
    "**Conclusion:**\n",
    "Overall, the performance of the pipeline is strong. The processing speed and throughput are suitable for handling a moderate number of articles, and the resource utilization remains within acceptable limits. Future improvements might include further optimization for handling larger volumes of data and integrating more sophisticated error monitoring tools.\n",
    "\n",
    "### Challenges Faced\n",
    "* API Data Issues:\n",
    "    * **Inconsistencies:** Some API responses returned unexpected date formats or missing data.\n",
    "    * **Resolution:** Implemented robust error checking and conditional parsing for the publishedAt field (using datetime.fromisoformat() and fallback procedures).\n",
    "* Database Connectivity:\n",
    "    * **Connection Errors:** Initially encountered so many issues with connecting to the PostgreSQL database due to incorrect credentials and  connection settings.\n",
    "    * **Resolution:** Verified and updated connection parameters, and ensured the PostgreSQL service was running. Added exception handling around database operations.\n",
    "* Sentiment Analysis Edge Cases:\n",
    "    * **Data Quality:** Some headlines contained special characters or abbreviations that slightly skewed the sentiment results.\n",
    "    * **Resolution:** Implemented basic text pre-processing and normalization steps, such as removing extraneous characters and standardizing text inputs."
   ]
  }
 ],
 "metadata": {
  "kernelspec": {
   "display_name": ".venv",
   "language": "python",
   "name": "python3"
  },
  "language_info": {
   "name": "python",
   "version": "3.13.2"
  }
 },
 "nbformat": 4,
 "nbformat_minor": 2
}
